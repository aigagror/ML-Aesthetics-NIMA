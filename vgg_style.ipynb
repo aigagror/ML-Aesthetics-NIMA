{
 "cells": [
  {
   "cell_type": "code",
   "execution_count": 24,
   "metadata": {},
   "outputs": [],
   "source": [
    "import torch\n",
    "import torch.nn as nn\n",
    "import torch.nn.functional as F\n",
    "import torch.optim as optim\n",
    "\n",
    "from PIL import Image\n",
    "import matplotlib.pyplot as plt\n",
    "\n",
    "import torchvision.transforms as transforms\n",
    "import torchvision.models as models\n",
    "\n",
    "import copy\n",
    "from tqdm import tqdm"
   ]
  },
  {
   "cell_type": "code",
   "execution_count": 25,
   "metadata": {},
   "outputs": [],
   "source": [
    "device = torch.device(\"cuda\" if torch.cuda.is_available() else \"cpu\")"
   ]
  },
  {
   "cell_type": "code",
   "execution_count": 26,
   "metadata": {},
   "outputs": [],
   "source": [
    "style_layers_default = ['conv_1', 'conv_2', 'conv_3', 'conv_4', 'conv_5', 'conv_6']"
   ]
  },
  {
   "cell_type": "code",
   "execution_count": 27,
   "metadata": {},
   "outputs": [],
   "source": [
    "def gram_matrix(input):\n",
    "    a, b, c, d = input.size()  # a=batch size(=1)\n",
    "    # b=number of feature maps\n",
    "    # (c,d)=dimensions of a f. map (N=c*d)\n",
    "\n",
    "    features = input.view(a * b, c * d)  # resise F_XL into \\hat F_XL\n",
    "\n",
    "    G = torch.mm(features, features.t())  # compute the gram product\n",
    "\n",
    "    # we 'normalize' the values of the gram matrix\n",
    "    # by dividing by the number of element in each feature maps.\n",
    "    return G.div(a * b * c * d).view(a,-1)"
   ]
  },
  {
   "cell_type": "code",
   "execution_count": 28,
   "metadata": {},
   "outputs": [],
   "source": [
    "class StylePasser(nn.Module):\n",
    "    def __init__(self, layer):\n",
    "        super().__init__()\n",
    "        self.main = layer\n",
    "        \n",
    "    def forward(self, styles, input):\n",
    "        return styles, self.main(input)"
   ]
  },
  {
   "cell_type": "code",
   "execution_count": 29,
   "metadata": {},
   "outputs": [],
   "source": [
    "class StyleRep(nn.Module):\n",
    "    def __init__(self, input_size):\n",
    "        super().__init__()\n",
    "        self.main = nn.Linear(input_size, 64)\n",
    "\n",
    "    def forward(self, styles, input):\n",
    "        style = self.main(gram_matrix(input))\n",
    "        styles.append(style)\n",
    "        return styles, input"
   ]
  },
  {
   "cell_type": "code",
   "execution_count": 30,
   "metadata": {},
   "outputs": [],
   "source": [
    "# create a module to normalize input image so we can easily put it in a\n",
    "# nn.Sequential\n",
    "class Normalization(nn.Module):\n",
    "    def __init__(self, mean, std):\n",
    "        super(Normalization, self).__init__()\n",
    "        # .view the mean and std to make them [C x 1 x 1] so that they can\n",
    "        # directly work with image Tensor of shape [B x C x H x W].\n",
    "        # B is batch size. C is number of channels. H is height and W is width.\n",
    "        self.mean = mean.clone().detach().view(-1, 1, 1)\n",
    "        self.std = std.clone().detach().view(-1, 1, 1)\n",
    "\n",
    "    def forward(self, img):\n",
    "        # normalize img\n",
    "        return (img - self.mean) / self.std"
   ]
  },
  {
   "cell_type": "code",
   "execution_count": 37,
   "metadata": {},
   "outputs": [],
   "source": [
    "def get_style_rep(style_layers=style_layers_default):\n",
    "    cnn = models.vgg11(pretrained=True).features.eval()\n",
    "    cnn_normalization_mean = torch.tensor([0.485, 0.456, 0.406])\n",
    "    cnn_normalization_std = torch.tensor([0.229, 0.224, 0.225])\n",
    "\n",
    "    # normalization module\n",
    "    normalization = Normalization(cnn_normalization_mean, cnn_normalization_std).to(device)\n",
    "\n",
    "    # just in order to have an iterable access to or list of content/syle\n",
    "    # losses\n",
    "    style_reps = []\n",
    "\n",
    "    # assuming that cnn is a nn.Sequential, so we make a new nn.Sequential\n",
    "    # to put in modules that are supposed to be activated sequentially\n",
    "    model = nn.Sequential(normalization)\n",
    "\n",
    "    i = 0  # increment every time we see a conv\n",
    "    for layer in cnn.children():\n",
    "        out_channels = None\n",
    "        if isinstance(layer, nn.Conv2d):\n",
    "            i += 1\n",
    "            name = 'conv_{}'.format(i)\n",
    "            out_channels = layer.out_channels\n",
    "        elif isinstance(layer, nn.ReLU):\n",
    "            name = 'relu_{}'.format(i)\n",
    "            # The in-place version doesn't play very nicely with the ContentLoss\n",
    "            # and StyleLoss we insert below. So we replace with out-of-place\n",
    "            # ones here.\n",
    "            layer = nn.ReLU(inplace=False)\n",
    "        elif isinstance(layer, nn.MaxPool2d):\n",
    "            name = 'pool_{}'.format(i)\n",
    "            # Replace with Average Pool\n",
    "            layer = nn.AvgPool2d(2)\n",
    "            \n",
    "        elif isinstance(layer, nn.BatchNorm2d):\n",
    "            name = 'bn_{}'.format(i)\n",
    "        else:\n",
    "            raise RuntimeError('Unrecognized layer: {}'.format(layer.__class__.__name__))\n",
    "\n",
    "        model.add_module(name, StylePasser(layer))\n",
    "\n",
    "        if name in style_layers:\n",
    "            # add style loss:\n",
    "            style_rep = StyleRep(out_channels * out_channels)\n",
    "            model.add_module(\"style_rep_{}\".format(i), style_rep)\n",
    "            style_reps.append(style_rep)\n",
    "\n",
    "    # now we trim off the layers after the last content and style losses\n",
    "    for i in range(len(model) - 1, -1, -1):\n",
    "        if isinstance(model[i], StyleRep):\n",
    "            break\n",
    "\n",
    "    model = model[:(i + 1)]\n",
    "\n",
    "    return model"
   ]
  },
  {
   "cell_type": "code",
   "execution_count": 38,
   "metadata": {},
   "outputs": [],
   "source": [
    "class StyleModel(nn.Module):\n",
    "    def __init__(self, style_layers_default):\n",
    "        super().__init__()\n",
    "        self.main = get_style_rep(style_layers_default)\n",
    "        \n",
    "        self.classifier = nn.Sequential(\n",
    "            nn.Linear(64 * len(style_layers_default), 10),\n",
    "            nn.Softmax()\n",
    "        )\n",
    "        \n",
    "    def forward(self, input):\n",
    "        styles, out = self.main([], input)\n",
    "        \n",
    "        styles = torch.cat(styles, dim=1)\n",
    "        \n",
    "        return self.classifier(styles)\n",
    "        \n",
    "    \n",
    "    "
   ]
  },
  {
   "cell_type": "code",
   "execution_count": 39,
   "metadata": {},
   "outputs": [],
   "source": [
    "model = StyleModel(style_layers_default)"
   ]
  },
  {
   "cell_type": "code",
   "execution_count": 40,
   "metadata": {},
   "outputs": [
    {
     "data": {
      "text/plain": [
       "StyleModel(\n",
       "  (main): Sequential(\n",
       "    (0): Normalization()\n",
       "    (conv_1): StylePasser(\n",
       "      (main): Conv2d(3, 64, kernel_size=(3, 3), stride=(1, 1), padding=(1, 1))\n",
       "    )\n",
       "    (style_rep_1): StyleRep(\n",
       "      (main): Linear(in_features=4096, out_features=64, bias=True)\n",
       "    )\n",
       "    (relu_1): StylePasser(\n",
       "      (main): ReLU()\n",
       "    )\n",
       "    (pool_1): StylePasser(\n",
       "      (main): AvgPool2d(kernel_size=2, stride=2, padding=0)\n",
       "    )\n",
       "    (conv_2): StylePasser(\n",
       "      (main): Conv2d(64, 128, kernel_size=(3, 3), stride=(1, 1), padding=(1, 1))\n",
       "    )\n",
       "    (style_rep_2): StyleRep(\n",
       "      (main): Linear(in_features=16384, out_features=64, bias=True)\n",
       "    )\n",
       "    (relu_2): StylePasser(\n",
       "      (main): ReLU()\n",
       "    )\n",
       "    (pool_2): StylePasser(\n",
       "      (main): AvgPool2d(kernel_size=2, stride=2, padding=0)\n",
       "    )\n",
       "    (conv_3): StylePasser(\n",
       "      (main): Conv2d(128, 256, kernel_size=(3, 3), stride=(1, 1), padding=(1, 1))\n",
       "    )\n",
       "    (style_rep_3): StyleRep(\n",
       "      (main): Linear(in_features=65536, out_features=64, bias=True)\n",
       "    )\n",
       "    (relu_3): StylePasser(\n",
       "      (main): ReLU()\n",
       "    )\n",
       "    (conv_4): StylePasser(\n",
       "      (main): Conv2d(256, 256, kernel_size=(3, 3), stride=(1, 1), padding=(1, 1))\n",
       "    )\n",
       "    (style_rep_4): StyleRep(\n",
       "      (main): Linear(in_features=65536, out_features=64, bias=True)\n",
       "    )\n",
       "    (relu_4): StylePasser(\n",
       "      (main): ReLU()\n",
       "    )\n",
       "    (pool_4): StylePasser(\n",
       "      (main): AvgPool2d(kernel_size=2, stride=2, padding=0)\n",
       "    )\n",
       "    (conv_5): StylePasser(\n",
       "      (main): Conv2d(256, 512, kernel_size=(3, 3), stride=(1, 1), padding=(1, 1))\n",
       "    )\n",
       "    (style_rep_5): StyleRep(\n",
       "      (main): Linear(in_features=262144, out_features=64, bias=True)\n",
       "    )\n",
       "    (relu_5): StylePasser(\n",
       "      (main): ReLU()\n",
       "    )\n",
       "    (conv_6): StylePasser(\n",
       "      (main): Conv2d(512, 512, kernel_size=(3, 3), stride=(1, 1), padding=(1, 1))\n",
       "    )\n",
       "    (style_rep_6): StyleRep(\n",
       "      (main): Linear(in_features=262144, out_features=64, bias=True)\n",
       "    )\n",
       "  )\n",
       "  (classifier): Sequential(\n",
       "    (0): Linear(in_features=384, out_features=10, bias=True)\n",
       "    (1): Softmax()\n",
       "  )\n",
       ")"
      ]
     },
     "execution_count": 40,
     "metadata": {},
     "output_type": "execute_result"
    }
   ],
   "source": [
    "model"
   ]
  },
  {
   "cell_type": "code",
   "execution_count": null,
   "metadata": {},
   "outputs": [],
   "source": []
  }
 ],
 "metadata": {
  "kernelspec": {
   "display_name": "Python 3",
   "language": "python",
   "name": "python3"
  },
  "language_info": {
   "codemirror_mode": {
    "name": "ipython",
    "version": 3
   },
   "file_extension": ".py",
   "mimetype": "text/x-python",
   "name": "python",
   "nbconvert_exporter": "python",
   "pygments_lexer": "ipython3",
   "version": "3.7.1"
  }
 },
 "nbformat": 4,
 "nbformat_minor": 2
}
