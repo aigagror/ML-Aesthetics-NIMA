{
 "cells": [
  {
   "cell_type": "code",
   "execution_count": 1,
   "metadata": {},
   "outputs": [],
   "source": [
    "import os\n",
    "import pandas as pd"
   ]
  },
  {
   "cell_type": "code",
   "execution_count": 3,
   "metadata": {},
   "outputs": [
    {
     "name": "stdout",
     "output_type": "stream",
     "text": [
      "architecture_test.jpgl 2499\n",
      "floral_train.jpgl 2499\n",
      "landscape_test.jpgl 2499\n",
      "generic_test.jpgl 19999\n",
      "floral_test.jpgl 2499\n",
      "stilllife_train.jpgl 2499\n",
      "stilllife_test.jpgl 2499\n",
      "cityscape_train.jpgl 2499\n",
      "generic_ls_train.jpgl 19999\n",
      "generic_ss_train.jpgl 2499\n",
      "animal_train.jpgl 2499\n",
      "animal_test.jpgl 2499\n",
      "portrait_test.jpgl 2499\n",
      "architecture_train.jpgl 2499\n",
      "fooddrink_train.jpgl 2499\n",
      "landscape_train.jpgl 2499\n",
      "fooddrink_test.jpgl 2499\n",
      "portrait_train.jpgl 2499\n",
      "cityscape_test.jpgl 2499\n"
     ]
    }
   ],
   "source": [
    "files = os.listdir('aesthetics_image_lists/')\n",
    "for file in files:\n",
    "    df = pd.read_csv('aesthetics_image_lists/' + file)\n",
    "    print(file, len(df))"
   ]
  },
  {
   "cell_type": "code",
   "execution_count": null,
   "metadata": {},
   "outputs": [],
   "source": []
  }
 ],
 "metadata": {
  "kernelspec": {
   "display_name": "Python 3",
   "language": "python",
   "name": "python3"
  },
  "language_info": {
   "codemirror_mode": {
    "name": "ipython",
    "version": 3
   },
   "file_extension": ".py",
   "mimetype": "text/x-python",
   "name": "python",
   "nbconvert_exporter": "python",
   "pygments_lexer": "ipython3",
   "version": "3.7.1"
  }
 },
 "nbformat": 4,
 "nbformat_minor": 2
}
