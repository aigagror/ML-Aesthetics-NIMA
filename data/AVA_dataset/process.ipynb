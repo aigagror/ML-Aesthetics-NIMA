{
 "cells": [
  {
   "cell_type": "code",
   "execution_count": 1,
   "metadata": {},
   "outputs": [],
   "source": [
    "import pandas as pd"
   ]
  },
  {
   "cell_type": "code",
   "execution_count": 2,
   "metadata": {},
   "outputs": [
    {
     "data": {
      "text/html": [
       "<div>\n",
       "<style scoped>\n",
       "    .dataframe tbody tr th:only-of-type {\n",
       "        vertical-align: middle;\n",
       "    }\n",
       "\n",
       "    .dataframe tbody tr th {\n",
       "        vertical-align: top;\n",
       "    }\n",
       "\n",
       "    .dataframe thead th {\n",
       "        text-align: right;\n",
       "    }\n",
       "</style>\n",
       "<table border=\"1\" class=\"dataframe\">\n",
       "  <thead>\n",
       "    <tr style=\"text-align: right;\">\n",
       "      <th></th>\n",
       "      <th>Image ID</th>\n",
       "      <th>1</th>\n",
       "      <th>2</th>\n",
       "      <th>3</th>\n",
       "      <th>4</th>\n",
       "      <th>5</th>\n",
       "      <th>6</th>\n",
       "      <th>7</th>\n",
       "      <th>8</th>\n",
       "      <th>9</th>\n",
       "      <th>10</th>\n",
       "      <th>Semantic ID 1</th>\n",
       "      <th>Semantic ID 2</th>\n",
       "      <th>Challenge ID</th>\n",
       "    </tr>\n",
       "  </thead>\n",
       "  <tbody>\n",
       "    <tr>\n",
       "      <th>1</th>\n",
       "      <td>953619</td>\n",
       "      <td>0</td>\n",
       "      <td>1</td>\n",
       "      <td>5</td>\n",
       "      <td>17</td>\n",
       "      <td>38</td>\n",
       "      <td>36</td>\n",
       "      <td>15</td>\n",
       "      <td>6</td>\n",
       "      <td>5</td>\n",
       "      <td>1</td>\n",
       "      <td>1</td>\n",
       "      <td>22</td>\n",
       "      <td>1396</td>\n",
       "    </tr>\n",
       "    <tr>\n",
       "      <th>2</th>\n",
       "      <td>953958</td>\n",
       "      <td>10</td>\n",
       "      <td>7</td>\n",
       "      <td>15</td>\n",
       "      <td>26</td>\n",
       "      <td>26</td>\n",
       "      <td>21</td>\n",
       "      <td>10</td>\n",
       "      <td>8</td>\n",
       "      <td>1</td>\n",
       "      <td>2</td>\n",
       "      <td>1</td>\n",
       "      <td>21</td>\n",
       "      <td>1396</td>\n",
       "    </tr>\n",
       "    <tr>\n",
       "      <th>3</th>\n",
       "      <td>954184</td>\n",
       "      <td>0</td>\n",
       "      <td>0</td>\n",
       "      <td>4</td>\n",
       "      <td>8</td>\n",
       "      <td>41</td>\n",
       "      <td>56</td>\n",
       "      <td>10</td>\n",
       "      <td>3</td>\n",
       "      <td>4</td>\n",
       "      <td>0</td>\n",
       "      <td>0</td>\n",
       "      <td>0</td>\n",
       "      <td>1396</td>\n",
       "    </tr>\n",
       "    <tr>\n",
       "      <th>4</th>\n",
       "      <td>954113</td>\n",
       "      <td>0</td>\n",
       "      <td>1</td>\n",
       "      <td>4</td>\n",
       "      <td>6</td>\n",
       "      <td>48</td>\n",
       "      <td>37</td>\n",
       "      <td>23</td>\n",
       "      <td>5</td>\n",
       "      <td>2</td>\n",
       "      <td>2</td>\n",
       "      <td>15</td>\n",
       "      <td>21</td>\n",
       "      <td>1396</td>\n",
       "    </tr>\n",
       "    <tr>\n",
       "      <th>5</th>\n",
       "      <td>953980</td>\n",
       "      <td>0</td>\n",
       "      <td>3</td>\n",
       "      <td>6</td>\n",
       "      <td>15</td>\n",
       "      <td>57</td>\n",
       "      <td>39</td>\n",
       "      <td>6</td>\n",
       "      <td>1</td>\n",
       "      <td>1</td>\n",
       "      <td>1</td>\n",
       "      <td>22</td>\n",
       "      <td>38</td>\n",
       "      <td>1396</td>\n",
       "    </tr>\n",
       "  </tbody>\n",
       "</table>\n",
       "</div>"
      ],
      "text/plain": [
       "   Image ID   1  2   3   4   5   6   7  8  9  10  Semantic ID 1  \\\n",
       "1    953619   0  1   5  17  38  36  15  6  5   1              1   \n",
       "2    953958  10  7  15  26  26  21  10  8  1   2              1   \n",
       "3    954184   0  0   4   8  41  56  10  3  4   0              0   \n",
       "4    954113   0  1   4   6  48  37  23  5  2   2             15   \n",
       "5    953980   0  3   6  15  57  39   6  1  1   1             22   \n",
       "\n",
       "   Semantic ID 2  Challenge ID  \n",
       "1             22          1396  \n",
       "2             21          1396  \n",
       "3              0          1396  \n",
       "4             21          1396  \n",
       "5             38          1396  "
      ]
     },
     "execution_count": 2,
     "metadata": {},
     "output_type": "execute_result"
    }
   ],
   "source": [
    "ava_df = pd.read_csv('AVA.txt', sep=' ', names=['Image ID', 1, 2, 3, 4, 5, 6, 7, 8, 9, 10, 'Semantic ID 1', 'Semantic ID 2', 'Challenge ID'])\n",
    "ava_df.head()"
   ]
  },
  {
   "cell_type": "code",
   "execution_count": 3,
   "metadata": {},
   "outputs": [],
   "source": [
    "from PIL import Image\n",
    "import matplotlib.pyplot as plt\n",
    "from tqdm import tqdm"
   ]
  },
  {
   "cell_type": "markdown",
   "metadata": {},
   "source": [
    "# Filter Bad Images"
   ]
  },
  {
   "cell_type": "code",
   "execution_count": null,
   "metadata": {},
   "outputs": [
    {
     "name": "stderr",
     "output_type": "stream",
     "text": [
      "609it [00:00, 2682.43it/s]"
     ]
    },
    {
     "name": "stdout",
     "output_type": "stream",
     "text": [
      "Row 1 is bad\n",
      "Row 2 is bad\n",
      "Row 3 is bad\n",
      "Row 4 is bad\n",
      "Row 5 is bad\n",
      "Row 6 is bad\n",
      "Row 7 is bad\n",
      "Row 8 is bad\n",
      "Row 9 is bad\n",
      "Row 10 is bad\n"
     ]
    },
    {
     "name": "stderr",
     "output_type": "stream",
     "text": [
      "1545it [00:00, 3435.21it/s]Exception ignored in: <_io.FileIO name='images/691230.jpg' mode='rb' closefd=True>\n",
      "ResourceWarning: unclosed file <_io.BufferedReader name='images/691230.jpg'>\n",
      "5329it [00:01, 4800.30it/s]"
     ]
    },
    {
     "name": "stdout",
     "output_type": "stream",
     "text": [
      "Row 4754 is bad\n"
     ]
    },
    {
     "name": "stderr",
     "output_type": "stream",
     "text": [
      "12162it [00:02, 4265.58it/s]Exception ignored in: <_io.FileIO name='images/759039.jpg' mode='rb' closefd=True>\n",
      "ResourceWarning: unclosed file <_io.BufferedReader name='images/759039.jpg'>\n",
      "13154it [00:02, 4597.49it/s]"
     ]
    },
    {
     "name": "stdout",
     "output_type": "stream",
     "text": [
      "Row 12629 is bad\n"
     ]
    },
    {
     "name": "stderr",
     "output_type": "stream",
     "text": [
      "22150it [00:04, 4125.00it/s]"
     ]
    },
    {
     "name": "stdout",
     "output_type": "stream",
     "text": [
      "Row 21666 is bad\n"
     ]
    },
    {
     "name": "stderr",
     "output_type": "stream",
     "text": [
      "26298it [00:05, 4178.32it/s]Exception ignored in: <_io.FileIO name='images/2129.jpg' mode='rb' closefd=True>\n",
      "ResourceWarning: unclosed file <_io.BufferedReader name='images/2129.jpg'>\n",
      "27282it [00:06, 4529.96it/s]"
     ]
    },
    {
     "name": "stdout",
     "output_type": "stream",
     "text": [
      "Row 26366 is bad\n"
     ]
    },
    {
     "name": "stderr",
     "output_type": "stream",
     "text": [
      "30179it [00:06, 4340.04it/s]Exception ignored in: <_io.FileIO name='images/413786.jpg' mode='rb' closefd=True>\n",
      "ResourceWarning: unclosed file <_io.BufferedReader name='images/413786.jpg'>\n",
      "31068it [00:06, 4092.71it/s]"
     ]
    },
    {
     "name": "stdout",
     "output_type": "stream",
     "text": [
      "Row 30485 is bad\n"
     ]
    },
    {
     "name": "stderr",
     "output_type": "stream",
     "text": [
      "34276it [00:07, 4581.19it/s]Exception ignored in: <_io.FileIO name='images/913287.jpg' mode='rb' closefd=True>\n",
      "ResourceWarning: unclosed file <_io.BufferedReader name='images/913287.jpg'>\n",
      "35209it [00:07, 4469.42it/s]"
     ]
    },
    {
     "name": "stdout",
     "output_type": "stream",
     "text": [
      "Row 34426 is bad\n"
     ]
    },
    {
     "name": "stderr",
     "output_type": "stream",
     "text": [
      "35693it [00:08, 4573.68it/s]Exception ignored in: <_io.FileIO name='images/502377.jpg' mode='rb' closefd=True>\n",
      "ResourceWarning: unclosed file <_io.BufferedReader name='images/502377.jpg'>\n",
      "36596it [00:08, 4274.09it/s]"
     ]
    },
    {
     "name": "stdout",
     "output_type": "stream",
     "text": [
      "Row 35820 is bad\n"
     ]
    },
    {
     "name": "stderr",
     "output_type": "stream",
     "text": [
      "38897it [00:08, 4418.73it/s]Exception ignored in: <_io.FileIO name='images/532055.jpg' mode='rb' closefd=True>\n",
      "ResourceWarning: unclosed file <_io.BufferedReader name='images/532055.jpg'>\n",
      "39790it [00:09, 4195.09it/s]"
     ]
    },
    {
     "name": "stdout",
     "output_type": "stream",
     "text": [
      "Row 38979 is bad\n"
     ]
    },
    {
     "name": "stderr",
     "output_type": "stream",
     "text": [
      "41649it [00:09, 4085.94it/s]"
     ]
    },
    {
     "name": "stdout",
     "output_type": "stream",
     "text": [
      "Row 41210 is bad\n"
     ]
    },
    {
     "name": "stderr",
     "output_type": "stream",
     "text": [
      "43817it [00:09, 4015.67it/s]"
     ]
    },
    {
     "name": "stdout",
     "output_type": "stream",
     "text": [
      "Row 43351 is bad\n"
     ]
    },
    {
     "name": "stderr",
     "output_type": "stream",
     "text": [
      "51967it [00:11, 4502.61it/s]Exception ignored in: <_io.FileIO name='images/928298.jpg' mode='rb' closefd=True>\n",
      "ResourceWarning: unclosed file <_io.BufferedReader name='images/928298.jpg'>\n",
      "52874it [00:12, 4013.33it/s]"
     ]
    },
    {
     "name": "stdout",
     "output_type": "stream",
     "text": [
      "Row 52180 is bad\n"
     ]
    },
    {
     "name": "stderr",
     "output_type": "stream",
     "text": [
      "58463it [00:13, 4660.31it/s]Exception ignored in: <_io.FileIO name='images/943630.jpg' mode='rb' closefd=True>\n",
      "ResourceWarning: unclosed file <_io.BufferedReader name='images/943630.jpg'>\n",
      "59385it [00:13, 4342.90it/s]"
     ]
    },
    {
     "name": "stdout",
     "output_type": "stream",
     "text": [
      "Row 58700 is bad\n"
     ]
    },
    {
     "name": "stderr",
     "output_type": "stream",
     "text": [
      "61607it [00:14, 4377.03it/s]Exception ignored in: <_io.FileIO name='images/507237.jpg' mode='rb' closefd=True>\n",
      "ResourceWarning: unclosed file <_io.BufferedReader name='images/507237.jpg'>\n",
      "64395it [00:14, 4118.47it/s]"
     ]
    },
    {
     "name": "stdout",
     "output_type": "stream",
     "text": [
      "Row 63873 is bad\n"
     ]
    },
    {
     "name": "stderr",
     "output_type": "stream",
     "text": [
      "67513it [00:18, 400.78it/s] "
     ]
    },
    {
     "name": "stdout",
     "output_type": "stream",
     "text": [
      "Row 67772 is bad\n"
     ]
    },
    {
     "name": "stderr",
     "output_type": "stream",
     "text": [
      "Exception ignored in: <_io.FileIO name='images/706063.jpg' mode='rb' closefd=True>\n",
      "ResourceWarning: unclosed file <_io.BufferedReader name='images/706063.jpg'>\n",
      "68854it [00:38, 79.74it/s]Exception ignored in: <_io.FileIO name='images/570175.jpg' mode='rb' closefd=True>\n",
      "ResourceWarning: unclosed file <_io.BufferedReader name='images/570175.jpg'>\n",
      "68864it [00:38, 78.04it/s]"
     ]
    },
    {
     "name": "stdout",
     "output_type": "stream",
     "text": [
      "Row 68862 is bad\n"
     ]
    },
    {
     "name": "stderr",
     "output_type": "stream",
     "text": [
      "70083it [00:57, 81.15it/s]Exception ignored in: <_io.FileIO name='images/680979.jpg' mode='rb' closefd=True>\n",
      "ResourceWarning: unclosed file <_io.BufferedReader name='images/680979.jpg'>\n",
      "77736it [02:51, 66.35it/s]Exception ignored in: <_io.FileIO name='images/453704.jpg' mode='rb' closefd=True>\n",
      "ResourceWarning: unclosed file <_io.BufferedReader name='images/453704.jpg'>\n",
      "77745it [02:51, 71.30it/s]"
     ]
    },
    {
     "name": "stdout",
     "output_type": "stream",
     "text": [
      "Row 77739 is bad\n"
     ]
    },
    {
     "name": "stderr",
     "output_type": "stream",
     "text": [
      "78234it [02:59, 85.36it/s]Exception ignored in: <_io.FileIO name='images/476416.jpg' mode='rb' closefd=True>\n",
      "ResourceWarning: unclosed file <_io.BufferedReader name='images/476416.jpg'>\n",
      "78263it [02:59, 100.40it/s]"
     ]
    },
    {
     "name": "stdout",
     "output_type": "stream",
     "text": [
      "Row 78240 is bad\n"
     ]
    },
    {
     "name": "stderr",
     "output_type": "stream",
     "text": [
      "79044it [03:10, 48.26it/s]Exception ignored in: <_io.FileIO name='images/501064.jpg' mode='rb' closefd=True>\n",
      "ResourceWarning: unclosed file <_io.BufferedReader name='images/501064.jpg'>\n",
      "79050it [03:10, 43.35it/s]"
     ]
    },
    {
     "name": "stdout",
     "output_type": "stream",
     "text": [
      "Row 79046 is bad\n"
     ]
    },
    {
     "name": "stderr",
     "output_type": "stream",
     "text": [
      "80748it [03:36, 47.78it/s]Exception ignored in: <_io.FileIO name='images/564093.jpg' mode='rb' closefd=True>\n",
      "ResourceWarning: unclosed file <_io.BufferedReader name='images/564093.jpg'>\n",
      "80756it [03:36, 53.94it/s]"
     ]
    },
    {
     "name": "stdout",
     "output_type": "stream",
     "text": [
      "Row 80753 is bad\n"
     ]
    },
    {
     "name": "stderr",
     "output_type": "stream",
     "text": [
      "82244it [03:58, 103.58it/s]Exception ignored in: <_io.FileIO name='images/593733.jpg' mode='rb' closefd=True>\n",
      "ResourceWarning: unclosed file <_io.BufferedReader name='images/593733.jpg'>\n",
      "82270it [03:59, 113.79it/s]"
     ]
    },
    {
     "name": "stdout",
     "output_type": "stream",
     "text": [
      "Row 82252 is bad\n"
     ]
    },
    {
     "name": "stderr",
     "output_type": "stream",
     "text": [
      "83406it [04:16, 57.52it/s]Exception ignored in: <_io.FileIO name='images/627334.jpg' mode='rb' closefd=True>\n",
      "ResourceWarning: unclosed file <_io.BufferedReader name='images/627334.jpg'>\n",
      "83413it [04:16, 55.79it/s]"
     ]
    },
    {
     "name": "stdout",
     "output_type": "stream",
     "text": [
      "Row 83410 is bad\n"
     ]
    },
    {
     "name": "stderr",
     "output_type": "stream",
     "text": [
      "83715it [04:20, 57.59it/s]Exception ignored in: <_io.FileIO name='images/639811.jpg' mode='rb' closefd=True>\n",
      "ResourceWarning: unclosed file <_io.BufferedReader name='images/639811.jpg'>\n",
      "83732it [04:20, 66.23it/s]"
     ]
    },
    {
     "name": "stdout",
     "output_type": "stream",
     "text": [
      "Row 83717 is bad\n",
      "Row 83719 is bad\n"
     ]
    },
    {
     "name": "stderr",
     "output_type": "stream",
     "text": [
      "99325it [08:22, 70.89it/s]Exception ignored in: <_io.FileIO name='images/947334.jpg' mode='rb' closefd=True>\n",
      "ResourceWarning: unclosed file <_io.BufferedReader name='images/947334.jpg'>\n",
      "99341it [08:22, 66.90it/s]"
     ]
    },
    {
     "name": "stdout",
     "output_type": "stream",
     "text": [
      "Row 99331 is bad\n"
     ]
    },
    {
     "name": "stderr",
     "output_type": "stream",
     "text": [
      "99388it [08:23, 65.79it/s]Exception ignored in: <_io.FileIO name='images/954762.jpg' mode='rb' closefd=True>\n",
      "ResourceWarning: unclosed file <_io.BufferedReader name='images/954762.jpg'>\n",
      "99396it [08:23, 66.86it/s]"
     ]
    },
    {
     "name": "stdout",
     "output_type": "stream",
     "text": [
      "Row 99391 is bad\n"
     ]
    },
    {
     "name": "stderr",
     "output_type": "stream",
     "text": [
      "102046it [09:05, 64.39it/s]"
     ]
    },
    {
     "name": "stdout",
     "output_type": "stream",
     "text": [
      "Row 102036 is bad\n"
     ]
    },
    {
     "name": "stderr",
     "output_type": "stream",
     "text": [
      "102931it [09:19, 61.97it/s]Exception ignored in: <_io.FileIO name='images/420918.jpg' mode='rb' closefd=True>\n",
      "ResourceWarning: unclosed file <_io.BufferedReader name='images/420918.jpg'>\n",
      "102945it [09:20, 62.98it/s]"
     ]
    },
    {
     "name": "stdout",
     "output_type": "stream",
     "text": [
      "Row 102938 is bad\n"
     ]
    },
    {
     "name": "stderr",
     "output_type": "stream",
     "text": [
      "112150it [11:40, 56.34it/s]Exception ignored in: <_io.FileIO name='images/499068.jpg' mode='rb' closefd=True>\n",
      "ResourceWarning: unclosed file <_io.BufferedReader name='images/499068.jpg'>\n",
      "112156it [11:40, 50.24it/s]"
     ]
    },
    {
     "name": "stdout",
     "output_type": "stream",
     "text": [
      "Row 112153 is bad\n"
     ]
    },
    {
     "name": "stderr",
     "output_type": "stream",
     "text": [
      "115567it [12:30, 66.18it/s]Exception ignored in: <_io.FileIO name='images/772220.jpg' mode='rb' closefd=True>\n",
      "ResourceWarning: unclosed file <_io.BufferedReader name='images/772220.jpg'>\n",
      "115582it [12:30, 76.99it/s]"
     ]
    },
    {
     "name": "stdout",
     "output_type": "stream",
     "text": [
      "Row 115574 is bad\n"
     ]
    },
    {
     "name": "stderr",
     "output_type": "stream",
     "text": [
      "127030it [15:20, 85.85it/s]Exception ignored in: <_io.FileIO name='images/501015.jpg' mode='rb' closefd=True>\n",
      "ResourceWarning: unclosed file <_io.BufferedReader name='images/501015.jpg'>\n",
      "127039it [15:20, 71.07it/s]"
     ]
    },
    {
     "name": "stdout",
     "output_type": "stream",
     "text": [
      "Row 127032 is bad\n"
     ]
    },
    {
     "name": "stderr",
     "output_type": "stream",
     "text": [
      "128807it [15:46, 72.39it/s]"
     ]
    }
   ],
   "source": [
    "import numpy as np\n",
    "\n",
    "# Catch all warnings too\n",
    "import warnings\n",
    "warnings.filterwarnings(\"error\")\n",
    "\n",
    "rows_to_delete = []\n",
    "for i, row in tqdm(ava_df.iterrows()):\n",
    "    try:\n",
    "        im = Image.open('images/{}.jpg'.format(row['Image ID']))\n",
    "        im.verify()\n",
    "        im.close()\n",
    "    except:\n",
    "        print(\"Row {} is bad\".format(i))\n",
    "        rows_to_delete.append(i)   "
   ]
  },
  {
   "cell_type": "code",
   "execution_count": null,
   "metadata": {},
   "outputs": [],
   "source": [
    "proc_ava_df = ava_df.drop(rows_to_delete)\n",
    "print('Removed {} rows'.format(len(rows_to_delete)))"
   ]
  },
  {
   "cell_type": "code",
   "execution_count": null,
   "metadata": {},
   "outputs": [],
   "source": [
    "proc_ava_df.to_csv('proc_AVA.csv', index=False)"
   ]
  },
  {
   "cell_type": "markdown",
   "metadata": {},
   "source": [
    "# Calculate Mean Score"
   ]
  },
  {
   "cell_type": "code",
   "execution_count": null,
   "metadata": {},
   "outputs": [],
   "source": [
    "ava_df = pd.read_csv('proc_AVA.csv')"
   ]
  },
  {
   "cell_type": "code",
   "execution_count": null,
   "metadata": {},
   "outputs": [],
   "source": [
    "ava_df.head()"
   ]
  },
  {
   "cell_type": "code",
   "execution_count": null,
   "metadata": {},
   "outputs": [],
   "source": [
    "import numpy as np\n",
    "\n",
    "def compute_mean_score(row):\n",
    "    prob_distr = row[[1,2,3,4,5,6,7,8,9,10]].values\n",
    "    prob_distr = prob_distr / prob_distr.sum()\n",
    "    weights = np.arange(10) + 1\n",
    "    mean_score = (prob_distr * weights).sum()\n",
    "    return mean_score"
   ]
  },
  {
   "cell_type": "code",
   "execution_count": null,
   "metadata": {},
   "outputs": [],
   "source": [
    "%%time\n",
    "ava_df['Mean Score'] = ava_df.apply(compute_mean_score, axis=1)"
   ]
  },
  {
   "cell_type": "code",
   "execution_count": null,
   "metadata": {},
   "outputs": [],
   "source": [
    "ava_df.head()"
   ]
  },
  {
   "cell_type": "code",
   "execution_count": null,
   "metadata": {},
   "outputs": [],
   "source": [
    "ava_df.to_csv('proc_AVA.csv', index=False)"
   ]
  },
  {
   "cell_type": "code",
   "execution_count": null,
   "metadata": {},
   "outputs": [],
   "source": [
    "len(ava_df)"
   ]
  }
 ],
 "metadata": {
  "kernelspec": {
   "display_name": "Python 3",
   "language": "python",
   "name": "python3"
  },
  "language_info": {
   "codemirror_mode": {
    "name": "ipython",
    "version": 3
   },
   "file_extension": ".py",
   "mimetype": "text/x-python",
   "name": "python",
   "nbconvert_exporter": "python",
   "pygments_lexer": "ipython3",
   "version": "3.7.1"
  }
 },
 "nbformat": 4,
 "nbformat_minor": 2
}
