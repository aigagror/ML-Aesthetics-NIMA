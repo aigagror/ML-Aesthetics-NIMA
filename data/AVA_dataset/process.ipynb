{
 "cells": [
  {
   "cell_type": "code",
   "execution_count": 1,
   "metadata": {},
   "outputs": [],
   "source": [
    "import pandas as pd"
   ]
  },
  {
   "cell_type": "code",
   "execution_count": 2,
   "metadata": {},
   "outputs": [
    {
     "data": {
      "text/html": [
       "<div>\n",
       "<style scoped>\n",
       "    .dataframe tbody tr th:only-of-type {\n",
       "        vertical-align: middle;\n",
       "    }\n",
       "\n",
       "    .dataframe tbody tr th {\n",
       "        vertical-align: top;\n",
       "    }\n",
       "\n",
       "    .dataframe thead th {\n",
       "        text-align: right;\n",
       "    }\n",
       "</style>\n",
       "<table border=\"1\" class=\"dataframe\">\n",
       "  <thead>\n",
       "    <tr style=\"text-align: right;\">\n",
       "      <th></th>\n",
       "      <th>Image ID</th>\n",
       "      <th>1</th>\n",
       "      <th>2</th>\n",
       "      <th>3</th>\n",
       "      <th>4</th>\n",
       "      <th>5</th>\n",
       "      <th>6</th>\n",
       "      <th>7</th>\n",
       "      <th>8</th>\n",
       "      <th>9</th>\n",
       "      <th>10</th>\n",
       "      <th>Semantic ID 1</th>\n",
       "      <th>Semantic ID 2</th>\n",
       "      <th>Challenge ID</th>\n",
       "    </tr>\n",
       "  </thead>\n",
       "  <tbody>\n",
       "    <tr>\n",
       "      <th>1</th>\n",
       "      <td>953619</td>\n",
       "      <td>0</td>\n",
       "      <td>1</td>\n",
       "      <td>5</td>\n",
       "      <td>17</td>\n",
       "      <td>38</td>\n",
       "      <td>36</td>\n",
       "      <td>15</td>\n",
       "      <td>6</td>\n",
       "      <td>5</td>\n",
       "      <td>1</td>\n",
       "      <td>1</td>\n",
       "      <td>22</td>\n",
       "      <td>1396</td>\n",
       "    </tr>\n",
       "    <tr>\n",
       "      <th>2</th>\n",
       "      <td>953958</td>\n",
       "      <td>10</td>\n",
       "      <td>7</td>\n",
       "      <td>15</td>\n",
       "      <td>26</td>\n",
       "      <td>26</td>\n",
       "      <td>21</td>\n",
       "      <td>10</td>\n",
       "      <td>8</td>\n",
       "      <td>1</td>\n",
       "      <td>2</td>\n",
       "      <td>1</td>\n",
       "      <td>21</td>\n",
       "      <td>1396</td>\n",
       "    </tr>\n",
       "    <tr>\n",
       "      <th>3</th>\n",
       "      <td>954184</td>\n",
       "      <td>0</td>\n",
       "      <td>0</td>\n",
       "      <td>4</td>\n",
       "      <td>8</td>\n",
       "      <td>41</td>\n",
       "      <td>56</td>\n",
       "      <td>10</td>\n",
       "      <td>3</td>\n",
       "      <td>4</td>\n",
       "      <td>0</td>\n",
       "      <td>0</td>\n",
       "      <td>0</td>\n",
       "      <td>1396</td>\n",
       "    </tr>\n",
       "    <tr>\n",
       "      <th>4</th>\n",
       "      <td>954113</td>\n",
       "      <td>0</td>\n",
       "      <td>1</td>\n",
       "      <td>4</td>\n",
       "      <td>6</td>\n",
       "      <td>48</td>\n",
       "      <td>37</td>\n",
       "      <td>23</td>\n",
       "      <td>5</td>\n",
       "      <td>2</td>\n",
       "      <td>2</td>\n",
       "      <td>15</td>\n",
       "      <td>21</td>\n",
       "      <td>1396</td>\n",
       "    </tr>\n",
       "    <tr>\n",
       "      <th>5</th>\n",
       "      <td>953980</td>\n",
       "      <td>0</td>\n",
       "      <td>3</td>\n",
       "      <td>6</td>\n",
       "      <td>15</td>\n",
       "      <td>57</td>\n",
       "      <td>39</td>\n",
       "      <td>6</td>\n",
       "      <td>1</td>\n",
       "      <td>1</td>\n",
       "      <td>1</td>\n",
       "      <td>22</td>\n",
       "      <td>38</td>\n",
       "      <td>1396</td>\n",
       "    </tr>\n",
       "  </tbody>\n",
       "</table>\n",
       "</div>"
      ],
      "text/plain": [
       "   Image ID   1  2   3   4   5   6   7  8  9  10  Semantic ID 1  \\\n",
       "1    953619   0  1   5  17  38  36  15  6  5   1              1   \n",
       "2    953958  10  7  15  26  26  21  10  8  1   2              1   \n",
       "3    954184   0  0   4   8  41  56  10  3  4   0              0   \n",
       "4    954113   0  1   4   6  48  37  23  5  2   2             15   \n",
       "5    953980   0  3   6  15  57  39   6  1  1   1             22   \n",
       "\n",
       "   Semantic ID 2  Challenge ID  \n",
       "1             22          1396  \n",
       "2             21          1396  \n",
       "3              0          1396  \n",
       "4             21          1396  \n",
       "5             38          1396  "
      ]
     },
     "execution_count": 2,
     "metadata": {},
     "output_type": "execute_result"
    }
   ],
   "source": [
    "ava_df = pd.read_csv('AVA.txt', sep=' ', names=['Image ID', 1, 2, 3, 4, 5, 6, 7, 8, 9, 10, 'Semantic ID 1', 'Semantic ID 2', 'Challenge ID'])\n",
    "ava_df.head()"
   ]
  },
  {
   "cell_type": "code",
   "execution_count": 3,
   "metadata": {},
   "outputs": [],
   "source": [
    "from PIL import Image\n",
    "import matplotlib.pyplot as plt\n",
    "from tqdm import tqdm"
   ]
  },
  {
   "cell_type": "markdown",
   "metadata": {},
   "source": [
    "# Filter Bad Images"
   ]
  },
  {
   "cell_type": "code",
   "execution_count": 4,
   "metadata": {},
   "outputs": [
    {
     "name": "stderr",
     "output_type": "stream",
     "text": [
      "13it [00:00, 124.24it/s]"
     ]
    },
    {
     "name": "stdout",
     "output_type": "stream",
     "text": [
      "Row 1 is bad\n",
      "Row 2 is bad\n",
      "Row 3 is bad\n",
      "Row 4 is bad\n",
      "Row 5 is bad\n",
      "Row 6 is bad\n",
      "Row 7 is bad\n",
      "Row 8 is bad\n",
      "Row 9 is bad\n",
      "Row 10 is bad\n"
     ]
    },
    {
     "name": "stderr",
     "output_type": "stream",
     "text": [
      "1906it [00:29, 58.02it/s]Exception ignored in: <_io.FileIO name='images/691230.jpg' mode='rb' closefd=True>\n",
      "ResourceWarning: unclosed file <_io.BufferedReader name='images/691230.jpg'>\n",
      "4759it [01:08, 52.20it/s]"
     ]
    },
    {
     "name": "stdout",
     "output_type": "stream",
     "text": [
      "Row 4754 is bad\n"
     ]
    },
    {
     "name": "stderr",
     "output_type": "stream",
     "text": [
      "12618it [03:02, 85.59it/s]Exception ignored in: <_io.FileIO name='images/759039.jpg' mode='rb' closefd=True>\n",
      "ResourceWarning: unclosed file <_io.BufferedReader name='images/759039.jpg'>\n",
      "12639it [03:02, 82.44it/s]"
     ]
    },
    {
     "name": "stdout",
     "output_type": "stream",
     "text": [
      "Row 12629 is bad\n"
     ]
    },
    {
     "name": "stderr",
     "output_type": "stream",
     "text": [
      "21675it [05:13, 68.58it/s]"
     ]
    },
    {
     "name": "stdout",
     "output_type": "stream",
     "text": [
      "Row 21666 is bad\n"
     ]
    },
    {
     "name": "stderr",
     "output_type": "stream",
     "text": [
      "26362it [06:25, 53.66it/s]Exception ignored in: <_io.FileIO name='images/2129.jpg' mode='rb' closefd=True>\n",
      "ResourceWarning: unclosed file <_io.BufferedReader name='images/2129.jpg'>\n",
      "26376it [06:26, 60.14it/s]"
     ]
    },
    {
     "name": "stdout",
     "output_type": "stream",
     "text": [
      "Row 26366 is bad\n"
     ]
    },
    {
     "name": "stderr",
     "output_type": "stream",
     "text": [
      "30475it [07:24, 129.99it/s]Exception ignored in: <_io.FileIO name='images/413786.jpg' mode='rb' closefd=True>\n",
      "ResourceWarning: unclosed file <_io.BufferedReader name='images/413786.jpg'>\n",
      "30489it [07:24, 128.53it/s]"
     ]
    },
    {
     "name": "stdout",
     "output_type": "stream",
     "text": [
      "Row 30485 is bad\n"
     ]
    },
    {
     "name": "stderr",
     "output_type": "stream",
     "text": [
      "34394it [07:51, 763.94it/s]Exception ignored in: <_io.FileIO name='images/913287.jpg' mode='rb' closefd=True>\n",
      "ResourceWarning: unclosed file <_io.BufferedReader name='images/913287.jpg'>\n",
      "34569it [07:51, 769.68it/s]"
     ]
    },
    {
     "name": "stdout",
     "output_type": "stream",
     "text": [
      "Row 34426 is bad\n"
     ]
    },
    {
     "name": "stderr",
     "output_type": "stream",
     "text": [
      "35777it [07:52, 1064.89it/s]Exception ignored in: <_io.FileIO name='images/502377.jpg' mode='rb' closefd=True>\n",
      "ResourceWarning: unclosed file <_io.BufferedReader name='images/502377.jpg'>\n",
      "36269it [07:52, 1472.80it/s]"
     ]
    },
    {
     "name": "stdout",
     "output_type": "stream",
     "text": [
      "Row 35820 is bad\n"
     ]
    },
    {
     "name": "stderr",
     "output_type": "stream",
     "text": [
      "38929it [07:54, 1907.53it/s]Exception ignored in: <_io.FileIO name='images/532055.jpg' mode='rb' closefd=True>\n",
      "ResourceWarning: unclosed file <_io.BufferedReader name='images/532055.jpg'>\n",
      "39509it [07:54, 2212.59it/s]"
     ]
    },
    {
     "name": "stdout",
     "output_type": "stream",
     "text": [
      "Row 38979 is bad\n"
     ]
    },
    {
     "name": "stderr",
     "output_type": "stream",
     "text": [
      "41346it [07:55, 1457.67it/s]"
     ]
    },
    {
     "name": "stdout",
     "output_type": "stream",
     "text": [
      "Row 41210 is bad\n"
     ]
    },
    {
     "name": "stderr",
     "output_type": "stream",
     "text": [
      "43462it [07:57, 1482.07it/s]"
     ]
    },
    {
     "name": "stdout",
     "output_type": "stream",
     "text": [
      "Row 43351 is bad\n"
     ]
    },
    {
     "name": "stderr",
     "output_type": "stream",
     "text": [
      "52077it [08:04, 1597.56it/s]Exception ignored in: <_io.FileIO name='images/928298.jpg' mode='rb' closefd=True>\n",
      "ResourceWarning: unclosed file <_io.BufferedReader name='images/928298.jpg'>\n",
      "52272it [08:04, 1566.15it/s]"
     ]
    },
    {
     "name": "stdout",
     "output_type": "stream",
     "text": [
      "Row 52180 is bad\n"
     ]
    },
    {
     "name": "stderr",
     "output_type": "stream",
     "text": [
      "58577it [08:09, 1329.72it/s]Exception ignored in: <_io.FileIO name='images/943630.jpg' mode='rb' closefd=True>\n",
      "ResourceWarning: unclosed file <_io.BufferedReader name='images/943630.jpg'>\n",
      "58965it [08:10, 1562.23it/s]"
     ]
    },
    {
     "name": "stdout",
     "output_type": "stream",
     "text": [
      "Row 58700 is bad\n"
     ]
    },
    {
     "name": "stderr",
     "output_type": "stream",
     "text": [
      "61568it [08:11, 1629.03it/s]Exception ignored in: <_io.FileIO name='images/507237.jpg' mode='rb' closefd=True>\n",
      "ResourceWarning: unclosed file <_io.BufferedReader name='images/507237.jpg'>\n",
      "64242it [08:13, 1613.06it/s]"
     ]
    },
    {
     "name": "stdout",
     "output_type": "stream",
     "text": [
      "Row 63873 is bad\n"
     ]
    },
    {
     "name": "stderr",
     "output_type": "stream",
     "text": [
      "67640it [08:16, 1437.08it/s]Exception ignored in: <_io.FileIO name='images/706063.jpg' mode='rb' closefd=True>\n",
      "ResourceWarning: unclosed file <_io.BufferedReader name='images/706063.jpg'>\n",
      "68178it [08:16, 1695.77it/s]"
     ]
    },
    {
     "name": "stdout",
     "output_type": "stream",
     "text": [
      "Row 67772 is bad\n"
     ]
    },
    {
     "name": "stderr",
     "output_type": "stream",
     "text": [
      "68658it [08:16, 1632.80it/s]Exception ignored in: <_io.FileIO name='images/570175.jpg' mode='rb' closefd=True>\n",
      "ResourceWarning: unclosed file <_io.BufferedReader name='images/570175.jpg'>\n",
      "68872it [08:16, 1687.22it/s]"
     ]
    },
    {
     "name": "stdout",
     "output_type": "stream",
     "text": [
      "Row 68862 is bad\n"
     ]
    },
    {
     "name": "stderr",
     "output_type": "stream",
     "text": [
      "69918it [08:17, 1162.67it/s]Exception ignored in: <_io.FileIO name='images/680979.jpg' mode='rb' closefd=True>\n",
      "ResourceWarning: unclosed file <_io.BufferedReader name='images/680979.jpg'>\n",
      "77709it [08:24, 1459.68it/s]Exception ignored in: <_io.FileIO name='images/453704.jpg' mode='rb' closefd=True>\n",
      "ResourceWarning: unclosed file <_io.BufferedReader name='images/453704.jpg'>\n",
      "77863it [08:24, 1309.68it/s]"
     ]
    },
    {
     "name": "stdout",
     "output_type": "stream",
     "text": [
      "Row 77739 is bad\n"
     ]
    },
    {
     "name": "stderr",
     "output_type": "stream",
     "text": [
      "78003it [08:24, 1163.80it/s]Exception ignored in: <_io.FileIO name='images/476416.jpg' mode='rb' closefd=True>\n",
      "ResourceWarning: unclosed file <_io.BufferedReader name='images/476416.jpg'>\n",
      "78474it [08:24, 1382.22it/s]"
     ]
    },
    {
     "name": "stdout",
     "output_type": "stream",
     "text": [
      "Row 78240 is bad\n"
     ]
    },
    {
     "name": "stderr",
     "output_type": "stream",
     "text": [
      "79044it [08:25, 1120.45it/s]Exception ignored in: <_io.FileIO name='images/501064.jpg' mode='rb' closefd=True>\n",
      "ResourceWarning: unclosed file <_io.BufferedReader name='images/501064.jpg'>\n",
      "79164it [08:25, 1051.10it/s]"
     ]
    },
    {
     "name": "stdout",
     "output_type": "stream",
     "text": [
      "Row 79046 is bad\n"
     ]
    },
    {
     "name": "stderr",
     "output_type": "stream",
     "text": [
      "80735it [08:26, 1476.36it/s]Exception ignored in: <_io.FileIO name='images/564093.jpg' mode='rb' closefd=True>\n",
      "ResourceWarning: unclosed file <_io.BufferedReader name='images/564093.jpg'>\n",
      "80905it [08:26, 1471.93it/s]"
     ]
    },
    {
     "name": "stdout",
     "output_type": "stream",
     "text": [
      "Row 80753 is bad\n"
     ]
    },
    {
     "name": "stderr",
     "output_type": "stream",
     "text": [
      "82223it [08:27, 1328.80it/s]Exception ignored in: <_io.FileIO name='images/593733.jpg' mode='rb' closefd=True>\n",
      "ResourceWarning: unclosed file <_io.BufferedReader name='images/593733.jpg'>\n",
      "82419it [08:27, 1391.46it/s]"
     ]
    },
    {
     "name": "stdout",
     "output_type": "stream",
     "text": [
      "Row 82252 is bad\n"
     ]
    },
    {
     "name": "stderr",
     "output_type": "stream",
     "text": [
      "83292it [08:28, 1403.15it/s]Exception ignored in: <_io.FileIO name='images/627334.jpg' mode='rb' closefd=True>\n",
      "ResourceWarning: unclosed file <_io.BufferedReader name='images/627334.jpg'>\n",
      "83588it [08:28, 1282.47it/s]"
     ]
    },
    {
     "name": "stdout",
     "output_type": "stream",
     "text": [
      "Row 83410 is bad\n"
     ]
    },
    {
     "name": "stderr",
     "output_type": "stream",
     "text": [
      "Exception ignored in: <_io.FileIO name='images/639811.jpg' mode='rb' closefd=True>\n",
      "ResourceWarning: unclosed file <_io.BufferedReader name='images/639811.jpg'>\n",
      "83868it [08:28, 1331.83it/s]"
     ]
    },
    {
     "name": "stdout",
     "output_type": "stream",
     "text": [
      "Row 83717 is bad\n",
      "Row 83719 is bad\n"
     ]
    },
    {
     "name": "stderr",
     "output_type": "stream",
     "text": [
      "99312it [08:38, 1358.80it/s]Exception ignored in: <_io.FileIO name='images/947334.jpg' mode='rb' closefd=True>\n",
      "ResourceWarning: unclosed file <_io.BufferedReader name='images/947334.jpg'>\n",
      "Exception ignored in: <_io.FileIO name='images/954762.jpg' mode='rb' closefd=True>\n",
      "ResourceWarning: unclosed file <_io.BufferedReader name='images/954762.jpg'>\n",
      "99456it [08:38, 1342.59it/s]"
     ]
    },
    {
     "name": "stdout",
     "output_type": "stream",
     "text": [
      "Row 99331 is bad\n",
      "Row 99391 is bad\n"
     ]
    },
    {
     "name": "stderr",
     "output_type": "stream",
     "text": [
      "102247it [08:41, 1169.15it/s]"
     ]
    },
    {
     "name": "stdout",
     "output_type": "stream",
     "text": [
      "Row 102036 is bad\n"
     ]
    },
    {
     "name": "stderr",
     "output_type": "stream",
     "text": [
      "102909it [08:41, 1197.37it/s]Exception ignored in: <_io.FileIO name='images/420918.jpg' mode='rb' closefd=True>\n",
      "ResourceWarning: unclosed file <_io.BufferedReader name='images/420918.jpg'>\n",
      "103209it [08:41, 1285.15it/s]"
     ]
    },
    {
     "name": "stdout",
     "output_type": "stream",
     "text": [
      "Row 102938 is bad\n"
     ]
    },
    {
     "name": "stderr",
     "output_type": "stream",
     "text": [
      "111763it [08:47, 1173.29it/s]Exception ignored in: <_io.FileIO name='images/499068.jpg' mode='rb' closefd=True>\n",
      "ResourceWarning: unclosed file <_io.BufferedReader name='images/499068.jpg'>\n",
      "112522it [08:48, 1791.09it/s]"
     ]
    },
    {
     "name": "stdout",
     "output_type": "stream",
     "text": [
      "Row 112153 is bad\n"
     ]
    },
    {
     "name": "stderr",
     "output_type": "stream",
     "text": [
      "115281it [08:48, 3478.49it/s]Exception ignored in: <_io.FileIO name='images/772220.jpg' mode='rb' closefd=True>\n",
      "ResourceWarning: unclosed file <_io.BufferedReader name='images/772220.jpg'>\n",
      "116028it [08:48, 3557.98it/s]"
     ]
    },
    {
     "name": "stdout",
     "output_type": "stream",
     "text": [
      "Row 115574 is bad\n"
     ]
    },
    {
     "name": "stderr",
     "output_type": "stream",
     "text": [
      "126825it [08:51, 4330.01it/s]Exception ignored in: <_io.FileIO name='images/501015.jpg' mode='rb' closefd=True>\n",
      "ResourceWarning: unclosed file <_io.BufferedReader name='images/501015.jpg'>\n",
      "127696it [08:51, 4164.19it/s]"
     ]
    },
    {
     "name": "stdout",
     "output_type": "stream",
     "text": [
      "Row 127032 is bad\n"
     ]
    },
    {
     "name": "stderr",
     "output_type": "stream",
     "text": [
      "133583it [08:53, 4086.73it/s]Exception ignored in: <_io.FileIO name='images/412749.jpg' mode='rb' closefd=True>\n",
      "ResourceWarning: unclosed file <_io.BufferedReader name='images/412749.jpg'>\n",
      "134555it [08:53, 4461.20it/s]"
     ]
    },
    {
     "name": "stdout",
     "output_type": "stream",
     "text": [
      "Row 133641 is bad\n"
     ]
    },
    {
     "name": "stderr",
     "output_type": "stream",
     "text": [
      "136934it [08:53, 4488.04it/s]Exception ignored in: <_io.FileIO name='images/937294.jpg' mode='rb' closefd=True>\n",
      "ResourceWarning: unclosed file <_io.BufferedReader name='images/937294.jpg'>\n",
      "137840it [08:54, 4178.21it/s]"
     ]
    },
    {
     "name": "stdout",
     "output_type": "stream",
     "text": [
      "Row 137201 is bad\n"
     ]
    },
    {
     "name": "stderr",
     "output_type": "stream",
     "text": [
      "141440it [08:54, 4484.10it/s]Exception ignored in: <_io.FileIO name='images/912486.jpg' mode='rb' closefd=True>\n",
      "ResourceWarning: unclosed file <_io.BufferedReader name='images/912486.jpg'>\n",
      "142420it [08:55, 4403.45it/s]"
     ]
    },
    {
     "name": "stdout",
     "output_type": "stream",
     "text": [
      "Row 141636 is bad\n"
     ]
    },
    {
     "name": "stderr",
     "output_type": "stream",
     "text": [
      "147874it [08:56, 3960.57it/s]"
     ]
    },
    {
     "name": "stdout",
     "output_type": "stream",
     "text": [
      "Row 147278 is bad\n"
     ]
    },
    {
     "name": "stderr",
     "output_type": "stream",
     "text": [
      "149692it [08:56, 4458.93it/s]Exception ignored in: <_io.FileIO name='images/924257.jpg' mode='rb' closefd=True>\n",
      "ResourceWarning: unclosed file <_io.BufferedReader name='images/924257.jpg'>\n",
      "150147it [08:57, 4110.30it/s]Exception ignored in: <_io.FileIO name='images/799088.jpg' mode='rb' closefd=True>\n",
      "ResourceWarning: unclosed file <_io.BufferedReader name='images/799088.jpg'>\n",
      "150570it [08:57, 4049.90it/s]"
     ]
    },
    {
     "name": "stdout",
     "output_type": "stream",
     "text": [
      "Row 149951 is bad\n",
      "Row 150299 is bad\n"
     ]
    },
    {
     "name": "stderr",
     "output_type": "stream",
     "text": [
      "152859it [08:57, 4203.22it/s]Exception ignored in: <_io.FileIO name='images/556798.jpg' mode='rb' closefd=True>\n",
      "ResourceWarning: unclosed file <_io.BufferedReader name='images/556798.jpg'>\n",
      "153852it [08:57, 4537.64it/s]"
     ]
    },
    {
     "name": "stdout",
     "output_type": "stream",
     "text": [
      "Row 152952 is bad\n"
     ]
    },
    {
     "name": "stderr",
     "output_type": "stream",
     "text": [
      "158041it [08:58, 4311.64it/s]Exception ignored in: <_io.FileIO name='images/460423.jpg' mode='rb' closefd=True>\n",
      "ResourceWarning: unclosed file <_io.BufferedReader name='images/460423.jpg'>\n",
      "177818it [09:03, 3872.12it/s]Exception ignored in: <_io.FileIO name='images/420506.jpg' mode='rb' closefd=True>\n",
      "ResourceWarning: unclosed file <_io.BufferedReader name='images/420506.jpg'>\n",
      "186976it [09:05, 4031.49it/s]Exception ignored in: <_io.FileIO name='images/523555.jpg' mode='rb' closefd=True>\n",
      "ResourceWarning: unclosed file <_io.BufferedReader name='images/523555.jpg'>\n",
      "187804it [09:05, 3937.85it/s]"
     ]
    },
    {
     "name": "stdout",
     "output_type": "stream",
     "text": [
      "Row 187226 is bad\n"
     ]
    },
    {
     "name": "stderr",
     "output_type": "stream",
     "text": [
      "190227it [09:06, 4689.03it/s]Exception ignored in: <_io.FileIO name='images/564307.jpg' mode='rb' closefd=True>\n",
      "ResourceWarning: unclosed file <_io.BufferedReader name='images/564307.jpg'>\n"
     ]
    },
    {
     "name": "stdout",
     "output_type": "stream",
     "text": [
      "Row 189774 is bad\n",
      "Row 190530 is bad\n"
     ]
    },
    {
     "name": "stderr",
     "output_type": "stream",
     "text": [
      "192247it [09:06, 4836.78it/s]Exception ignored in: <_io.FileIO name='images/501095.jpg' mode='rb' closefd=True>\n",
      "ResourceWarning: unclosed file <_io.BufferedReader name='images/501095.jpg'>\n",
      "192736it [09:06, 4450.05it/s]"
     ]
    },
    {
     "name": "stdout",
     "output_type": "stream",
     "text": [
      "Row 192358 is bad\n"
     ]
    },
    {
     "name": "stderr",
     "output_type": "stream",
     "text": [
      "196471it [09:07, 4433.98it/s]Exception ignored in: <_io.FileIO name='images/547917.jpg' mode='rb' closefd=True>\n",
      "ResourceWarning: unclosed file <_io.BufferedReader name='images/547917.jpg'>\n",
      "197409it [09:08, 4516.36it/s]"
     ]
    },
    {
     "name": "stdout",
     "output_type": "stream",
     "text": [
      "Row 196565 is bad\n"
     ]
    },
    {
     "name": "stderr",
     "output_type": "stream",
     "text": [
      "200640it [09:08, 3976.75it/s]"
     ]
    },
    {
     "name": "stdout",
     "output_type": "stream",
     "text": [
      "Row 200092 is bad\n"
     ]
    },
    {
     "name": "stderr",
     "output_type": "stream",
     "text": [
      "203260it [09:09, 3890.74it/s]Exception ignored in: <_io.FileIO name='images/275180.jpg' mode='rb' closefd=True>\n",
      "ResourceWarning: unclosed file <_io.BufferedReader name='images/275180.jpg'>\n",
      "208841it [09:10, 4197.46it/s]Exception ignored in: <_io.FileIO name='images/438691.jpg' mode='rb' closefd=True>\n",
      "ResourceWarning: unclosed file <_io.BufferedReader name='images/438691.jpg'>\n",
      "209276it [09:10, 3962.36it/s]"
     ]
    },
    {
     "name": "stdout",
     "output_type": "stream",
     "text": [
      "Row 208874 is bad\n"
     ]
    },
    {
     "name": "stderr",
     "output_type": "stream",
     "text": [
      "212405it [09:11, 4143.89it/s]Exception ignored in: <_io.FileIO name='images/915220.jpg' mode='rb' closefd=True>\n",
      "ResourceWarning: unclosed file <_io.BufferedReader name='images/915220.jpg'>\n",
      "212825it [09:11, 4050.73it/s]"
     ]
    },
    {
     "name": "stdout",
     "output_type": "stream",
     "text": [
      "Row 212439 is bad\n"
     ]
    },
    {
     "name": "stderr",
     "output_type": "stream",
     "text": [
      "218239it [09:13, 4190.77it/s]Exception ignored in: <_io.FileIO name='images/862540.jpg' mode='rb' closefd=True>\n",
      "ResourceWarning: unclosed file <_io.BufferedReader name='images/862540.jpg'>\n",
      "Exception ignored in: <_io.FileIO name='images/744159.jpg' mode='rb' closefd=True>\n",
      "ResourceWarning: unclosed file <_io.BufferedReader name='images/744159.jpg'>\n",
      "219113it [09:13, 4252.13it/s]"
     ]
    },
    {
     "name": "stdout",
     "output_type": "stream",
     "text": [
      "Row 218630 is bad\n",
      "Row 218661 is bad\n"
     ]
    },
    {
     "name": "stderr",
     "output_type": "stream",
     "text": [
      "224409it [09:14, 4178.98it/s]"
     ]
    },
    {
     "name": "stdout",
     "output_type": "stream",
     "text": [
      "Row 223791 is bad\n"
     ]
    },
    {
     "name": "stderr",
     "output_type": "stream",
     "text": [
      "230048it [09:15, 4551.71it/s]Exception ignored in: <_io.FileIO name='images/517816.jpg' mode='rb' closefd=True>\n",
      "ResourceWarning: unclosed file <_io.BufferedReader name='images/517816.jpg'>\n",
      "230949it [09:15, 4277.85it/s]"
     ]
    },
    {
     "name": "stdout",
     "output_type": "stream",
     "text": [
      "Row 230483 is bad\n",
      "Row 231088 is bad\n"
     ]
    },
    {
     "name": "stderr",
     "output_type": "stream",
     "text": [
      "241099it [10:35, 43.71it/s]Exception ignored in: <_io.FileIO name='images/1617.jpg' mode='rb' closefd=True>\n",
      "ResourceWarning: unclosed file <_io.BufferedReader name='images/1617.jpg'>\n",
      "241111it [10:36, 45.21it/s]"
     ]
    },
    {
     "name": "stdout",
     "output_type": "stream",
     "text": [
      "Row 241103 is bad\n"
     ]
    },
    {
     "name": "stderr",
     "output_type": "stream",
     "text": [
      "242646it [10:59, 86.94it/s]Exception ignored in: <_io.FileIO name='images/512522.jpg' mode='rb' closefd=True>\n",
      "ResourceWarning: unclosed file <_io.BufferedReader name='images/512522.jpg'>\n",
      "242667it [10:59, 72.00it/s]"
     ]
    },
    {
     "name": "stdout",
     "output_type": "stream",
     "text": [
      "Row 242657 is bad\n"
     ]
    },
    {
     "name": "stderr",
     "output_type": "stream",
     "text": [
      "250237it [12:58, 53.03it/s]Exception ignored in: <_io.FileIO name='images/924570.jpg' mode='rb' closefd=True>\n",
      "ResourceWarning: unclosed file <_io.BufferedReader name='images/924570.jpg'>\n",
      "250246it [12:58, 60.39it/s]"
     ]
    },
    {
     "name": "stdout",
     "output_type": "stream",
     "text": [
      "Row 250244 is bad\n"
     ]
    },
    {
     "name": "stderr",
     "output_type": "stream",
     "text": [
      "253142it [13:43, 51.15it/s]Exception ignored in: <_io.FileIO name='images/904787.jpg' mode='rb' closefd=True>\n",
      "ResourceWarning: unclosed file <_io.BufferedReader name='images/904787.jpg'>\n",
      "253156it [13:43, 51.46it/s]"
     ]
    },
    {
     "name": "stdout",
     "output_type": "stream",
     "text": [
      "Row 253149 is bad\n"
     ]
    },
    {
     "name": "stderr",
     "output_type": "stream",
     "text": [
      "255530it [14:19, 297.47it/s]\n"
     ]
    }
   ],
   "source": [
    "import numpy as np\n",
    "\n",
    "# Catch all warnings too\n",
    "import warnings\n",
    "warnings.filterwarnings(\"error\")\n",
    "\n",
    "rows_to_delete = []\n",
    "for i, row in tqdm(ava_df.iterrows()):\n",
    "    try:\n",
    "        im = Image.open('images/{}.jpg'.format(row['Image ID']))\n",
    "        im.verify()\n",
    "        im.close()\n",
    "    except:\n",
    "        print(\"Row {} is bad\".format(i))\n",
    "        rows_to_delete.append(i)   "
   ]
  },
  {
   "cell_type": "code",
   "execution_count": 5,
   "metadata": {},
   "outputs": [
    {
     "name": "stdout",
     "output_type": "stream",
     "text": [
      "Removed 64 rows\n"
     ]
    }
   ],
   "source": [
    "proc_ava_df = ava_df.drop(rows_to_delete)\n",
    "print('Removed {} rows'.format(len(rows_to_delete)))"
   ]
  },
  {
   "cell_type": "code",
   "execution_count": 6,
   "metadata": {},
   "outputs": [],
   "source": [
    "proc_ava_df.to_csv('proc_AVA.csv', index=False)"
   ]
  },
  {
   "cell_type": "markdown",
   "metadata": {},
   "source": [
    "# Calculate Mean Score"
   ]
  },
  {
   "cell_type": "code",
   "execution_count": 7,
   "metadata": {},
   "outputs": [],
   "source": [
    "ava_df = pd.read_csv('proc_AVA.csv')"
   ]
  },
  {
   "cell_type": "code",
   "execution_count": 8,
   "metadata": {},
   "outputs": [
    {
     "data": {
      "text/html": [
       "<div>\n",
       "<style scoped>\n",
       "    .dataframe tbody tr th:only-of-type {\n",
       "        vertical-align: middle;\n",
       "    }\n",
       "\n",
       "    .dataframe tbody tr th {\n",
       "        vertical-align: top;\n",
       "    }\n",
       "\n",
       "    .dataframe thead th {\n",
       "        text-align: right;\n",
       "    }\n",
       "</style>\n",
       "<table border=\"1\" class=\"dataframe\">\n",
       "  <thead>\n",
       "    <tr style=\"text-align: right;\">\n",
       "      <th></th>\n",
       "      <th>Image ID</th>\n",
       "      <th>1</th>\n",
       "      <th>2</th>\n",
       "      <th>3</th>\n",
       "      <th>4</th>\n",
       "      <th>5</th>\n",
       "      <th>6</th>\n",
       "      <th>7</th>\n",
       "      <th>8</th>\n",
       "      <th>9</th>\n",
       "      <th>10</th>\n",
       "      <th>Semantic ID 1</th>\n",
       "      <th>Semantic ID 2</th>\n",
       "      <th>Challenge ID</th>\n",
       "    </tr>\n",
       "  </thead>\n",
       "  <tbody>\n",
       "    <tr>\n",
       "      <th>0</th>\n",
       "      <td>953417</td>\n",
       "      <td>0</td>\n",
       "      <td>0</td>\n",
       "      <td>0</td>\n",
       "      <td>5</td>\n",
       "      <td>32</td>\n",
       "      <td>50</td>\n",
       "      <td>23</td>\n",
       "      <td>10</td>\n",
       "      <td>3</td>\n",
       "      <td>1</td>\n",
       "      <td>22</td>\n",
       "      <td>0</td>\n",
       "      <td>1396</td>\n",
       "    </tr>\n",
       "    <tr>\n",
       "      <th>1</th>\n",
       "      <td>953777</td>\n",
       "      <td>0</td>\n",
       "      <td>3</td>\n",
       "      <td>2</td>\n",
       "      <td>3</td>\n",
       "      <td>13</td>\n",
       "      <td>40</td>\n",
       "      <td>35</td>\n",
       "      <td>21</td>\n",
       "      <td>8</td>\n",
       "      <td>3</td>\n",
       "      <td>20</td>\n",
       "      <td>53</td>\n",
       "      <td>1396</td>\n",
       "    </tr>\n",
       "    <tr>\n",
       "      <th>2</th>\n",
       "      <td>953756</td>\n",
       "      <td>0</td>\n",
       "      <td>2</td>\n",
       "      <td>3</td>\n",
       "      <td>9</td>\n",
       "      <td>35</td>\n",
       "      <td>50</td>\n",
       "      <td>20</td>\n",
       "      <td>5</td>\n",
       "      <td>2</td>\n",
       "      <td>2</td>\n",
       "      <td>0</td>\n",
       "      <td>0</td>\n",
       "      <td>1396</td>\n",
       "    </tr>\n",
       "    <tr>\n",
       "      <th>3</th>\n",
       "      <td>954195</td>\n",
       "      <td>0</td>\n",
       "      <td>1</td>\n",
       "      <td>7</td>\n",
       "      <td>26</td>\n",
       "      <td>56</td>\n",
       "      <td>23</td>\n",
       "      <td>6</td>\n",
       "      <td>1</td>\n",
       "      <td>0</td>\n",
       "      <td>2</td>\n",
       "      <td>0</td>\n",
       "      <td>0</td>\n",
       "      <td>1396</td>\n",
       "    </tr>\n",
       "    <tr>\n",
       "      <th>4</th>\n",
       "      <td>953903</td>\n",
       "      <td>0</td>\n",
       "      <td>1</td>\n",
       "      <td>4</td>\n",
       "      <td>5</td>\n",
       "      <td>33</td>\n",
       "      <td>50</td>\n",
       "      <td>17</td>\n",
       "      <td>9</td>\n",
       "      <td>3</td>\n",
       "      <td>2</td>\n",
       "      <td>21</td>\n",
       "      <td>28</td>\n",
       "      <td>1396</td>\n",
       "    </tr>\n",
       "  </tbody>\n",
       "</table>\n",
       "</div>"
      ],
      "text/plain": [
       "   Image ID  1  2  3   4   5   6   7   8  9  10  Semantic ID 1  Semantic ID 2  \\\n",
       "0    953417  0  0  0   5  32  50  23  10  3   1             22              0   \n",
       "1    953777  0  3  2   3  13  40  35  21  8   3             20             53   \n",
       "2    953756  0  2  3   9  35  50  20   5  2   2              0              0   \n",
       "3    954195  0  1  7  26  56  23   6   1  0   2              0              0   \n",
       "4    953903  0  1  4   5  33  50  17   9  3   2             21             28   \n",
       "\n",
       "   Challenge ID  \n",
       "0          1396  \n",
       "1          1396  \n",
       "2          1396  \n",
       "3          1396  \n",
       "4          1396  "
      ]
     },
     "execution_count": 8,
     "metadata": {},
     "output_type": "execute_result"
    }
   ],
   "source": [
    "ava_df.head()"
   ]
  },
  {
   "cell_type": "code",
   "execution_count": 9,
   "metadata": {},
   "outputs": [],
   "source": [
    "import numpy as np\n",
    "\n",
    "def compute_mean_score(row):\n",
    "    prob_distr = row[[1,2,3,4,5,6,7,8,9,10]].values\n",
    "    prob_distr = prob_distr / prob_distr.sum()\n",
    "    weights = np.arange(10) + 1\n",
    "    mean_score = (prob_distr * weights).sum()\n",
    "    return mean_score"
   ]
  },
  {
   "cell_type": "code",
   "execution_count": 10,
   "metadata": {},
   "outputs": [
    {
     "name": "stdout",
     "output_type": "stream",
     "text": [
      "CPU times: user 1min 12s, sys: 1.27 s, total: 1min 13s\n",
      "Wall time: 1min 13s\n"
     ]
    }
   ],
   "source": [
    "%%time\n",
    "ava_df['Mean Score'] = ava_df.apply(compute_mean_score, axis=1)"
   ]
  },
  {
   "cell_type": "code",
   "execution_count": 11,
   "metadata": {},
   "outputs": [
    {
     "data": {
      "text/html": [
       "<div>\n",
       "<style scoped>\n",
       "    .dataframe tbody tr th:only-of-type {\n",
       "        vertical-align: middle;\n",
       "    }\n",
       "\n",
       "    .dataframe tbody tr th {\n",
       "        vertical-align: top;\n",
       "    }\n",
       "\n",
       "    .dataframe thead th {\n",
       "        text-align: right;\n",
       "    }\n",
       "</style>\n",
       "<table border=\"1\" class=\"dataframe\">\n",
       "  <thead>\n",
       "    <tr style=\"text-align: right;\">\n",
       "      <th></th>\n",
       "      <th>Image ID</th>\n",
       "      <th>1</th>\n",
       "      <th>2</th>\n",
       "      <th>3</th>\n",
       "      <th>4</th>\n",
       "      <th>5</th>\n",
       "      <th>6</th>\n",
       "      <th>7</th>\n",
       "      <th>8</th>\n",
       "      <th>9</th>\n",
       "      <th>10</th>\n",
       "      <th>Semantic ID 1</th>\n",
       "      <th>Semantic ID 2</th>\n",
       "      <th>Challenge ID</th>\n",
       "      <th>Mean Score</th>\n",
       "    </tr>\n",
       "  </thead>\n",
       "  <tbody>\n",
       "    <tr>\n",
       "      <th>0</th>\n",
       "      <td>953417</td>\n",
       "      <td>0</td>\n",
       "      <td>0</td>\n",
       "      <td>0</td>\n",
       "      <td>5</td>\n",
       "      <td>32</td>\n",
       "      <td>50</td>\n",
       "      <td>23</td>\n",
       "      <td>10</td>\n",
       "      <td>3</td>\n",
       "      <td>1</td>\n",
       "      <td>22</td>\n",
       "      <td>0</td>\n",
       "      <td>1396</td>\n",
       "      <td>6.112903</td>\n",
       "    </tr>\n",
       "    <tr>\n",
       "      <th>1</th>\n",
       "      <td>953777</td>\n",
       "      <td>0</td>\n",
       "      <td>3</td>\n",
       "      <td>2</td>\n",
       "      <td>3</td>\n",
       "      <td>13</td>\n",
       "      <td>40</td>\n",
       "      <td>35</td>\n",
       "      <td>21</td>\n",
       "      <td>8</td>\n",
       "      <td>3</td>\n",
       "      <td>20</td>\n",
       "      <td>53</td>\n",
       "      <td>1396</td>\n",
       "      <td>6.593750</td>\n",
       "    </tr>\n",
       "    <tr>\n",
       "      <th>2</th>\n",
       "      <td>953756</td>\n",
       "      <td>0</td>\n",
       "      <td>2</td>\n",
       "      <td>3</td>\n",
       "      <td>9</td>\n",
       "      <td>35</td>\n",
       "      <td>50</td>\n",
       "      <td>20</td>\n",
       "      <td>5</td>\n",
       "      <td>2</td>\n",
       "      <td>2</td>\n",
       "      <td>0</td>\n",
       "      <td>0</td>\n",
       "      <td>1396</td>\n",
       "      <td>5.796875</td>\n",
       "    </tr>\n",
       "    <tr>\n",
       "      <th>3</th>\n",
       "      <td>954195</td>\n",
       "      <td>0</td>\n",
       "      <td>1</td>\n",
       "      <td>7</td>\n",
       "      <td>26</td>\n",
       "      <td>56</td>\n",
       "      <td>23</td>\n",
       "      <td>6</td>\n",
       "      <td>1</td>\n",
       "      <td>0</td>\n",
       "      <td>2</td>\n",
       "      <td>0</td>\n",
       "      <td>0</td>\n",
       "      <td>1396</td>\n",
       "      <td>5.040984</td>\n",
       "    </tr>\n",
       "    <tr>\n",
       "      <th>4</th>\n",
       "      <td>953903</td>\n",
       "      <td>0</td>\n",
       "      <td>1</td>\n",
       "      <td>4</td>\n",
       "      <td>5</td>\n",
       "      <td>33</td>\n",
       "      <td>50</td>\n",
       "      <td>17</td>\n",
       "      <td>9</td>\n",
       "      <td>3</td>\n",
       "      <td>2</td>\n",
       "      <td>21</td>\n",
       "      <td>28</td>\n",
       "      <td>1396</td>\n",
       "      <td>5.943548</td>\n",
       "    </tr>\n",
       "  </tbody>\n",
       "</table>\n",
       "</div>"
      ],
      "text/plain": [
       "   Image ID  1  2  3   4   5   6   7   8  9  10  Semantic ID 1  Semantic ID 2  \\\n",
       "0    953417  0  0  0   5  32  50  23  10  3   1             22              0   \n",
       "1    953777  0  3  2   3  13  40  35  21  8   3             20             53   \n",
       "2    953756  0  2  3   9  35  50  20   5  2   2              0              0   \n",
       "3    954195  0  1  7  26  56  23   6   1  0   2              0              0   \n",
       "4    953903  0  1  4   5  33  50  17   9  3   2             21             28   \n",
       "\n",
       "   Challenge ID  Mean Score  \n",
       "0          1396    6.112903  \n",
       "1          1396    6.593750  \n",
       "2          1396    5.796875  \n",
       "3          1396    5.040984  \n",
       "4          1396    5.943548  "
      ]
     },
     "execution_count": 11,
     "metadata": {},
     "output_type": "execute_result"
    }
   ],
   "source": [
    "ava_df.head()"
   ]
  },
  {
   "cell_type": "code",
   "execution_count": 12,
   "metadata": {},
   "outputs": [],
   "source": [
    "ava_df.to_csv('proc_AVA.csv', index=False)"
   ]
  },
  {
   "cell_type": "code",
   "execution_count": 13,
   "metadata": {},
   "outputs": [
    {
     "data": {
      "text/plain": [
       "255466"
      ]
     },
     "execution_count": 13,
     "metadata": {},
     "output_type": "execute_result"
    }
   ],
   "source": [
    "len(ava_df)"
   ]
  }
 ],
 "metadata": {
  "kernelspec": {
   "display_name": "Python 3",
   "language": "python",
   "name": "python3"
  },
  "language_info": {
   "codemirror_mode": {
    "name": "ipython",
    "version": 3
   },
   "file_extension": ".py",
   "mimetype": "text/x-python",
   "name": "python",
   "nbconvert_exporter": "python",
   "pygments_lexer": "ipython3",
   "version": "3.7.1"
  }
 },
 "nbformat": 4,
 "nbformat_minor": 2
}
