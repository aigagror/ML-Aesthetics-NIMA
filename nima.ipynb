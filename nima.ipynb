{
 "cells": [
  {
   "cell_type": "code",
   "execution_count": 1,
   "metadata": {
    "collapsed": false
   },
   "outputs": [],
   "source": [
    "import torch\n",
    "import torch.nn as nn\n",
    "import torch.optim as optim\n",
    "import numpy as np\n",
    "import torchvision\n",
    "from torchvision import datasets, models, transforms\n",
    "import matplotlib.pyplot as plt\n",
    "import time\n",
    "import os\n",
    "from tqdm import tqdm"
   ]
  },
  {
   "cell_type": "markdown",
   "metadata": {},
   "source": [
    "# Data"
   ]
  },
  {
   "cell_type": "code",
   "execution_count": 2,
   "metadata": {
    "collapsed": false
   },
   "outputs": [],
   "source": [
    "from data import AVA\n",
    "\n",
    "# Batch size for training (change depending on how much memory you have)\n",
    "batch_size = 64\n",
    "\n",
    "# Data augmentation and normalization for training\n",
    "# Just normalization for validation\n",
    "data_transforms = {\n",
    "    'train': transforms.Compose([\n",
    "        transforms.Resize(256),\n",
    "        transforms.RandomCrop(224),\n",
    "        transforms.RandomHorizontalFlip(),\n",
    "        transforms.ToTensor(),\n",
    "        transforms.Normalize([0.485, 0.456, 0.406], [0.229, 0.224, 0.225])\n",
    "    ]),\n",
    "    'val': transforms.Compose([\n",
    "        transforms.Resize(224),\n",
    "        transforms.CenterCrop(224),\n",
    "        transforms.ToTensor(),\n",
    "        transforms.Normalize([0.485, 0.456, 0.406], [0.229, 0.224, 0.225])\n",
    "    ]),\n",
    "}\n",
    "\n",
    "# Create training and validation datasets\n",
    "image_datasets = {x: AVA(None, train=(x=='train'), transform=data_transforms[x]) for x in ['train', 'val']}\n",
    "\n",
    "# Create training and validation dataloaders\n",
    "dataloaders_dict = {x: torch.utils.data.DataLoader(image_datasets[x], batch_size=batch_size, \n",
    "                                                   shuffle=True, num_workers=4) for x in ['train', 'val']}\n",
    "\n",
    "# Detect if we have a GPU available\n",
    "device = torch.device(\"cuda\" if torch.cuda.is_available() else \"cpu\")"
   ]
  },
  {
   "cell_type": "markdown",
   "metadata": {},
   "source": [
    "# Model"
   ]
  },
  {
   "cell_type": "code",
   "execution_count": 3,
   "metadata": {
    "collapsed": false
   },
   "outputs": [],
   "source": [
    "# Number of classes in the dataset\n",
    "num_classes = 10\n",
    "\n",
    "# Weight Path\n",
    "weight_path = 'weights/dense121_all.pt'"
   ]
  },
  {
   "cell_type": "code",
   "execution_count": 4,
   "metadata": {
    "collapsed": false
   },
   "outputs": [],
   "source": [
    "model_ft = models.densenet121(pretrained=True)\n",
    "num_ftrs = model_ft.classifier.in_features\n",
    "model_ft.classifier = nn.Sequential(\n",
    "    nn.Linear(num_ftrs,num_classes),\n",
    "    nn.Softmax(1)\n",
    ")    "
   ]
  },
  {
   "cell_type": "code",
   "execution_count": 5,
   "metadata": {
    "collapsed": false
   },
   "outputs": [],
   "source": [
    "# Send the model to GPU\n",
    "model_ft = model_ft.to(device)"
   ]
  },
  {
   "cell_type": "markdown",
   "metadata": {},
   "source": [
    "# Train"
   ]
  },
  {
   "cell_type": "code",
   "execution_count": 6,
   "metadata": {},
   "outputs": [],
   "source": [
    "num_epochs = 0"
   ]
  },
  {
   "cell_type": "code",
   "execution_count": 7,
   "metadata": {
    "collapsed": false
   },
   "outputs": [],
   "source": [
    "from scipy import stats\n",
    "def train_model(model, dataloaders, criterion, optimizers, num_epochs=25):\n",
    "    val_loss_history = []\n",
    "\n",
    "    for epoch in range(num_epochs):\n",
    "        # Each epoch has a training and validation phase\n",
    "        for phase in ['train', 'val']:\n",
    "            if phase == 'train':\n",
    "                model.train()  # Set model to training mode\n",
    "            else:\n",
    "                model.eval()   # Set model to evaluate mode\n",
    "\n",
    "            running_loss = 0.0\n",
    "            \n",
    "            true_means = []\n",
    "            pred_means = []\n",
    "\n",
    "            # Iterate over data.\n",
    "            import sys; sys.stdout.flush()\n",
    "            pbar = tqdm(dataloaders[phase], desc='Epoch {}/{} {}'.format(epoch, num_epochs - 1, phase))\n",
    "            for inputs, labels in pbar:\n",
    "                inputs = inputs.to(device)\n",
    "                labels = labels.to(device)\n",
    "                weight_votes = torch.arange(10, dtype=torch.float, device=device) + 1\n",
    "\n",
    "                # zero the parameter gradients\n",
    "                opt.zero_grad()\n",
    "\n",
    "                # forward\n",
    "                # track history if only in train\n",
    "                with torch.set_grad_enabled(phase == 'train'):\n",
    "                    outputs = model(inputs)\n",
    "                    loss = criterion(outputs, labels)\n",
    "                    \n",
    "                    true_mean = torch.matmul(labels, weight_votes)\n",
    "                    for m in true_mean:\n",
    "                        true_means.append(m.item())\n",
    "\n",
    "                    pred_mean = torch.matmul(outputs, weight_votes)\n",
    "                    for m in pred_mean:\n",
    "                        pred_means.append(m.item())\n",
    "\n",
    "                    # backward + optimize only if in training phase\n",
    "                    if phase == 'train':\n",
    "                        loss.backward()\n",
    "                        opt.step()\n",
    "\n",
    "                # statistics\n",
    "                running_loss += loss.item() * inputs.size(0)\n",
    "                \n",
    "                pbar.set_postfix_str('Loss: {:.4f}'.format(phase, epoch_loss))\n",
    "                \n",
    "            rho, pval = stats.pearsonr(true_means, pred_means)\n",
    "            plt.figure()\n",
    "            plt.title(\"Linear Correlation: {:.3f}\".format(rho))\n",
    "            plt.scatter(true_means, pred_means)\n",
    "            plt.show()\n",
    "            \n",
    "            epoch_loss = running_loss / len(dataloaders[phase].dataset)\n",
    "            \n",
    "            torch.save(model.state_dict(), weight_path)\n",
    "        \n",
    "    return model, val_loss_history"
   ]
  },
  {
   "cell_type": "code",
   "execution_count": 8,
   "metadata": {
    "collapsed": false
   },
   "outputs": [
    {
     "name": "stdout",
     "output_type": "stream",
     "text": [
      "Loaded saved weights from 'weights/dense121_all.pt'\n"
     ]
    }
   ],
   "source": [
    "if os.path.exists(weight_path):\n",
    "    model_ft.load_state_dict(torch.load(weight_path))\n",
    "    print(\"Loaded saved weights from '{}'\".format(weight_path))\n",
    "else:\n",
    "    print(\"Starting weights from scratch\")"
   ]
  },
  {
   "cell_type": "code",
   "execution_count": 9,
   "metadata": {
    "collapsed": false
   },
   "outputs": [],
   "source": [
    "opt = optim.Adam(model_ft.parameters(),lr=1e-5)"
   ]
  },
  {
   "cell_type": "code",
   "execution_count": 10,
   "metadata": {
    "collapsed": false
   },
   "outputs": [],
   "source": [
    "# Setup the loss fxn\n",
    "def EMDLoss(input, target):\n",
    "    batch_size = input.shape[0]\n",
    "    cdf_target = torch.cumsum(target, dim=1)\n",
    "    cdf_pred = torch.cumsum(input, dim=1)\n",
    "    cdf_diff = cdf_pred - cdf_target\n",
    "    loss = torch.sqrt(torch.mean(torch.pow(torch.abs(cdf_diff), 2)))\n",
    "    return loss.mean()"
   ]
  },
  {
   "cell_type": "code",
   "execution_count": 11,
   "metadata": {
    "collapsed": false
   },
   "outputs": [],
   "source": [
    "# Train and evaluate\n",
    "model_ft, hist = train_model(model_ft, dataloaders_dict, EMDLoss, opt, num_epochs=num_epochs)"
   ]
  },
  {
   "cell_type": "markdown",
   "metadata": {},
   "source": [
    "# Accuracy on AVA2"
   ]
  },
  {
   "cell_type": "code",
   "execution_count": 12,
   "metadata": {},
   "outputs": [
    {
     "name": "stderr",
     "output_type": "stream",
     "text": [
      "100%|██████████| 160/160 [01:15<00:00,  2.36it/s]"
     ]
    },
    {
     "name": "stdout",
     "output_type": "stream",
     "text": [
      "Accuracy 0.8189\n"
     ]
    },
    {
     "name": "stderr",
     "output_type": "stream",
     "text": [
      "\n"
     ]
    }
   ],
   "source": [
    "from data import AVA2\n",
    "ava2 = AVA2(None, train=False, transform=data_transforms['val'])\n",
    "ava2_loader = torch.utils.data.DataLoader(ava2, batch_size=batch_size, shuffle=True,num_workers=4)\n",
    "with torch.no_grad():\n",
    "    num_corr = 0\n",
    "    for inputs, labels in tqdm(ava2_loader):\n",
    "        inputs = inputs.to(device)\n",
    "        labels = labels.to(device)\n",
    "        \n",
    "        outputs = model_ft(inputs)\n",
    "        \n",
    "        weight_votes = torch.arange(10, dtype=torch.float, device=device) + 1\n",
    "        pred_mean = torch.matmul(outputs, weight_votes)\n",
    "        \n",
    "        batch_corr = ((pred_mean > 5) == labels.byte()).sum()\n",
    "        num_corr += batch_corr.item()\n",
    "    \n",
    "print(\"Accuracy {:.4f}\".format(num_corr/len(ava2)))"
   ]
  },
  {
   "cell_type": "markdown",
   "metadata": {},
   "source": [
    "# STD Correlation"
   ]
  },
  {
   "cell_type": "code",
   "execution_count": null,
   "metadata": {},
   "outputs": [],
   "source": []
  },
  {
   "cell_type": "code",
   "execution_count": null,
   "metadata": {},
   "outputs": [],
   "source": []
  },
  {
   "cell_type": "code",
   "execution_count": null,
   "metadata": {},
   "outputs": [],
   "source": []
  }
 ],
 "metadata": {
  "kernelspec": {
   "display_name": "Python 3",
   "language": "python",
   "name": "python3"
  },
  "language_info": {
   "codemirror_mode": {
    "name": "ipython",
    "version": 3
   },
   "file_extension": ".py",
   "mimetype": "text/x-python",
   "name": "python",
   "nbconvert_exporter": "python",
   "pygments_lexer": "ipython3",
   "version": "3.7.1"
  }
 },
 "nbformat": 4,
 "nbformat_minor": 2
}
